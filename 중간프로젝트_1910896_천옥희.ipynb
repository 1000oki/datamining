{
  "nbformat": 4,
  "nbformat_minor": 0,
  "metadata": {
    "colab": {
      "name": "중간프로젝트_1910896_천옥희.ipynb",
      "provenance": [],
      "collapsed_sections": []
    },
    "kernelspec": {
      "name": "python3",
      "display_name": "Python 3"
    },
    "language_info": {
      "name": "python"
    }
  },
  "cells": [
    {
      "cell_type": "markdown",
      "source": [
        "\n",
        "\n",
        "## 1번 문제\n"
      ],
      "metadata": {
        "id": "UrZauQTFdWXq"
      }
    },
    {
      "cell_type": "markdown",
      "source": [
        "Basketball.csv 데이터 불러오기"
      ],
      "metadata": {
        "id": "2ZDI9b56hssf"
      }
    },
    {
      "cell_type": "code",
      "source": [
        "import pandas as pd\n",
        "df = pd.read_csv('/content/drive/MyDrive/Dataminning/data/basketball.csv')\n",
        "df.head()"
      ],
      "metadata": {
        "colab": {
          "base_uri": "https://localhost:8080/",
          "height": 206
        },
        "id": "ez_XJTIYdnYs",
        "outputId": "c85d7c1b-1d13-4273-dcb5-3676aedb78cb"
      },
      "execution_count": 113,
      "outputs": [
        {
          "output_type": "execute_result",
          "data": {
            "text/plain": [
              "         Date          Visitor Team  VisitorPts              Home Team  \\\n",
              "0  2015-10-27   Cleveland Cavaliers          95          Chicago Bulls   \n",
              "1  2015-10-27       Detroit Pistons         106          Atlanta Hawks   \n",
              "2  2015-10-27  New Orleans Pelicans          95  Golden State Warriors   \n",
              "3  2015-10-28    Washington Wizards          88          Orlando Magic   \n",
              "4  2015-10-28    Philadelphia 76ers          95         Boston Celtics   \n",
              "\n",
              "   HomePts  Attend.  \n",
              "0       97    21957  \n",
              "1       94    19187  \n",
              "2      111    19596  \n",
              "3       87    18846  \n",
              "4      112    18624  "
            ],
            "text/html": [
              "\n",
              "  <div id=\"df-c80cfb31-a5b8-4358-9b94-ec25b18f5153\">\n",
              "    <div class=\"colab-df-container\">\n",
              "      <div>\n",
              "<style scoped>\n",
              "    .dataframe tbody tr th:only-of-type {\n",
              "        vertical-align: middle;\n",
              "    }\n",
              "\n",
              "    .dataframe tbody tr th {\n",
              "        vertical-align: top;\n",
              "    }\n",
              "\n",
              "    .dataframe thead th {\n",
              "        text-align: right;\n",
              "    }\n",
              "</style>\n",
              "<table border=\"1\" class=\"dataframe\">\n",
              "  <thead>\n",
              "    <tr style=\"text-align: right;\">\n",
              "      <th></th>\n",
              "      <th>Date</th>\n",
              "      <th>Visitor Team</th>\n",
              "      <th>VisitorPts</th>\n",
              "      <th>Home Team</th>\n",
              "      <th>HomePts</th>\n",
              "      <th>Attend.</th>\n",
              "    </tr>\n",
              "  </thead>\n",
              "  <tbody>\n",
              "    <tr>\n",
              "      <th>0</th>\n",
              "      <td>2015-10-27</td>\n",
              "      <td>Cleveland Cavaliers</td>\n",
              "      <td>95</td>\n",
              "      <td>Chicago Bulls</td>\n",
              "      <td>97</td>\n",
              "      <td>21957</td>\n",
              "    </tr>\n",
              "    <tr>\n",
              "      <th>1</th>\n",
              "      <td>2015-10-27</td>\n",
              "      <td>Detroit Pistons</td>\n",
              "      <td>106</td>\n",
              "      <td>Atlanta Hawks</td>\n",
              "      <td>94</td>\n",
              "      <td>19187</td>\n",
              "    </tr>\n",
              "    <tr>\n",
              "      <th>2</th>\n",
              "      <td>2015-10-27</td>\n",
              "      <td>New Orleans Pelicans</td>\n",
              "      <td>95</td>\n",
              "      <td>Golden State Warriors</td>\n",
              "      <td>111</td>\n",
              "      <td>19596</td>\n",
              "    </tr>\n",
              "    <tr>\n",
              "      <th>3</th>\n",
              "      <td>2015-10-28</td>\n",
              "      <td>Washington Wizards</td>\n",
              "      <td>88</td>\n",
              "      <td>Orlando Magic</td>\n",
              "      <td>87</td>\n",
              "      <td>18846</td>\n",
              "    </tr>\n",
              "    <tr>\n",
              "      <th>4</th>\n",
              "      <td>2015-10-28</td>\n",
              "      <td>Philadelphia 76ers</td>\n",
              "      <td>95</td>\n",
              "      <td>Boston Celtics</td>\n",
              "      <td>112</td>\n",
              "      <td>18624</td>\n",
              "    </tr>\n",
              "  </tbody>\n",
              "</table>\n",
              "</div>\n",
              "      <button class=\"colab-df-convert\" onclick=\"convertToInteractive('df-c80cfb31-a5b8-4358-9b94-ec25b18f5153')\"\n",
              "              title=\"Convert this dataframe to an interactive table.\"\n",
              "              style=\"display:none;\">\n",
              "        \n",
              "  <svg xmlns=\"http://www.w3.org/2000/svg\" height=\"24px\"viewBox=\"0 0 24 24\"\n",
              "       width=\"24px\">\n",
              "    <path d=\"M0 0h24v24H0V0z\" fill=\"none\"/>\n",
              "    <path d=\"M18.56 5.44l.94 2.06.94-2.06 2.06-.94-2.06-.94-.94-2.06-.94 2.06-2.06.94zm-11 1L8.5 8.5l.94-2.06 2.06-.94-2.06-.94L8.5 2.5l-.94 2.06-2.06.94zm10 10l.94 2.06.94-2.06 2.06-.94-2.06-.94-.94-2.06-.94 2.06-2.06.94z\"/><path d=\"M17.41 7.96l-1.37-1.37c-.4-.4-.92-.59-1.43-.59-.52 0-1.04.2-1.43.59L10.3 9.45l-7.72 7.72c-.78.78-.78 2.05 0 2.83L4 21.41c.39.39.9.59 1.41.59.51 0 1.02-.2 1.41-.59l7.78-7.78 2.81-2.81c.8-.78.8-2.07 0-2.86zM5.41 20L4 18.59l7.72-7.72 1.47 1.35L5.41 20z\"/>\n",
              "  </svg>\n",
              "      </button>\n",
              "      \n",
              "  <style>\n",
              "    .colab-df-container {\n",
              "      display:flex;\n",
              "      flex-wrap:wrap;\n",
              "      gap: 12px;\n",
              "    }\n",
              "\n",
              "    .colab-df-convert {\n",
              "      background-color: #E8F0FE;\n",
              "      border: none;\n",
              "      border-radius: 50%;\n",
              "      cursor: pointer;\n",
              "      display: none;\n",
              "      fill: #1967D2;\n",
              "      height: 32px;\n",
              "      padding: 0 0 0 0;\n",
              "      width: 32px;\n",
              "    }\n",
              "\n",
              "    .colab-df-convert:hover {\n",
              "      background-color: #E2EBFA;\n",
              "      box-shadow: 0px 1px 2px rgba(60, 64, 67, 0.3), 0px 1px 3px 1px rgba(60, 64, 67, 0.15);\n",
              "      fill: #174EA6;\n",
              "    }\n",
              "\n",
              "    [theme=dark] .colab-df-convert {\n",
              "      background-color: #3B4455;\n",
              "      fill: #D2E3FC;\n",
              "    }\n",
              "\n",
              "    [theme=dark] .colab-df-convert:hover {\n",
              "      background-color: #434B5C;\n",
              "      box-shadow: 0px 1px 3px 1px rgba(0, 0, 0, 0.15);\n",
              "      filter: drop-shadow(0px 1px 2px rgba(0, 0, 0, 0.3));\n",
              "      fill: #FFFFFF;\n",
              "    }\n",
              "  </style>\n",
              "\n",
              "      <script>\n",
              "        const buttonEl =\n",
              "          document.querySelector('#df-c80cfb31-a5b8-4358-9b94-ec25b18f5153 button.colab-df-convert');\n",
              "        buttonEl.style.display =\n",
              "          google.colab.kernel.accessAllowed ? 'block' : 'none';\n",
              "\n",
              "        async function convertToInteractive(key) {\n",
              "          const element = document.querySelector('#df-c80cfb31-a5b8-4358-9b94-ec25b18f5153');\n",
              "          const dataTable =\n",
              "            await google.colab.kernel.invokeFunction('convertToInteractive',\n",
              "                                                     [key], {});\n",
              "          if (!dataTable) return;\n",
              "\n",
              "          const docLinkHtml = 'Like what you see? Visit the ' +\n",
              "            '<a target=\"_blank\" href=https://colab.research.google.com/notebooks/data_table.ipynb>data table notebook</a>'\n",
              "            + ' to learn more about interactive tables.';\n",
              "          element.innerHTML = '';\n",
              "          dataTable['output_type'] = 'display_data';\n",
              "          await google.colab.output.renderOutput(dataTable, element);\n",
              "          const docLink = document.createElement('div');\n",
              "          docLink.innerHTML = docLinkHtml;\n",
              "          element.appendChild(docLink);\n",
              "        }\n",
              "      </script>\n",
              "    </div>\n",
              "  </div>\n",
              "  "
            ]
          },
          "metadata": {},
          "execution_count": 113
        }
      ]
    },
    {
      "cell_type": "markdown",
      "source": [
        "### 해당시즌 우승팀\n",
        "홈팀에서 이기면 'Home Team'이, 홈팀이 아닌 팀에서 이기면 'Visitor Team'을 갖는 winner라는 새로운 열을 만들었습니다."
      ],
      "metadata": {
        "id": "PDEF0q1khweD"
      }
    },
    {
      "cell_type": "code",
      "source": [
        "df.loc[df['VisitorPts']>df['HomePts'], \"winner\"] = df[\"Visitor Team\"]\n",
        "df.loc[df['VisitorPts']<df['HomePts'], \"winner\"] = df[\"Home Team\"]\n",
        "df[['winner']].isnull().sum() # 혹시, 비긴 팀이 있을까봐 null값을 확인해주었습니다."
      ],
      "metadata": {
        "colab": {
          "base_uri": "https://localhost:8080/"
        },
        "id": "20MfijALeeDy",
        "outputId": "0ba4c464-1191-46ad-9fdd-b0b6d95b452b"
      },
      "execution_count": 114,
      "outputs": [
        {
          "output_type": "execute_result",
          "data": {
            "text/plain": [
              "winner    0\n",
              "dtype: int64"
            ]
          },
          "metadata": {},
          "execution_count": 114
        }
      ]
    },
    {
      "cell_type": "markdown",
      "source": [
        "df에 winner열을 OneHotEncoder을 시키고, 각 팀에 대해 합을 구합니다."
      ],
      "metadata": {
        "id": "xGwOq4ItjfWQ"
      }
    },
    {
      "cell_type": "code",
      "source": [
        "from sklearn.preprocessing import OneHotEncoder\n",
        "enc = OneHotEncoder(sparse = False)\n",
        "\n",
        "out_enc = enc.fit_transform(df[['winner']])\n",
        "new_cols = enc.get_feature_names_out(df[['winner']].columns).tolist()\n",
        "\n",
        "winner_enc = pd.DataFrame(data =out_enc, columns= new_cols) #winner_enc로 onehotencoding한 부분만 새로운 데이터 프레임을 만들어 주었습니다.\n",
        "\n",
        "winner_enc.sum()"
      ],
      "metadata": {
        "colab": {
          "base_uri": "https://localhost:8080/"
        },
        "id": "Mn__8DhZhmt6",
        "outputId": "0f127d0c-9656-435b-ca09-6f9349256fb4"
      },
      "execution_count": 115,
      "outputs": [
        {
          "output_type": "execute_result",
          "data": {
            "text/plain": [
              "winner_Atlanta Hawks             52.0\n",
              "winner_Boston Celtics            50.0\n",
              "winner_Brooklyn Nets             21.0\n",
              "winner_Charlotte Hornets         51.0\n",
              "winner_Chicago Bulls             42.0\n",
              "winner_Cleveland Cavaliers       73.0\n",
              "winner_Dallas Mavericks          43.0\n",
              "winner_Denver Nuggets            33.0\n",
              "winner_Detroit Pistons           44.0\n",
              "winner_Golden State Warriors     88.0\n",
              "winner_Houston Rockets           42.0\n",
              "winner_Indiana Pacers            48.0\n",
              "winner_Los Angeles Clippers      55.0\n",
              "winner_Los Angeles Lakers        17.0\n",
              "winner_Memphis Grizzlies         42.0\n",
              "winner_Miami Heat                55.0\n",
              "winner_Milwaukee Bucks           33.0\n",
              "winner_Minnesota Timberwolves    29.0\n",
              "winner_New Orleans Pelicans      30.0\n",
              "winner_New York Knicks           32.0\n",
              "winner_Oklahoma City Thunder     66.0\n",
              "winner_Orlando Magic             35.0\n",
              "winner_Philadelphia 76ers        10.0\n",
              "winner_Phoenix Suns              23.0\n",
              "winner_Portland Trail Blazers    49.0\n",
              "winner_Sacramento Kings          33.0\n",
              "winner_San Antonio Spurs         73.0\n",
              "winner_Toronto Raptors           66.0\n",
              "winner_Utah Jazz                 40.0\n",
              "winner_Washington Wizards        41.0\n",
              "dtype: float64"
            ]
          },
          "metadata": {},
          "execution_count": 115
        }
      ]
    },
    {
      "cell_type": "markdown",
      "source": [
        "각 팀에 대한 이름과, 이긴 횟수를 합쳐 데이터 프레임을 만듭니다."
      ],
      "metadata": {
        "id": "pmpyY-PcjoCf"
      }
    },
    {
      "cell_type": "code",
      "source": [
        "Team = pd.DataFrame(new_cols, columns=['Team'])\n",
        "number =  pd.DataFrame(data=winner_enc.sum().values,columns=['number'])\n",
        "winner = pd.concat([Team, number], axis=1)"
      ],
      "metadata": {
        "id": "W7it1aGajdVE"
      },
      "execution_count": 116,
      "outputs": []
    },
    {
      "cell_type": "markdown",
      "source": [
        "number에 대해서 내림차순으로 정렬 시켜 첫 번째 행의 첫 번째열 값을 가져왔습니다."
      ],
      "metadata": {
        "id": "TI_M2Dgdj3EE"
      }
    },
    {
      "cell_type": "code",
      "source": [
        "winner=winner.sort_values('number', ascending=False)\n",
        "seasonwinner = winner.iloc[0,0]\n",
        "seasonwinner.strip('winner_Golden ')\n",
        "\n",
        "print(\"이번 시즌 우승 팀은 \"+ seasonwinner.strip('winner_Golden ')+ \"입니다.\")  # 팀이름 앞에 'winner_Golden '가 붙어 있으므로 제거 해준 후 출력했습니다."
      ],
      "metadata": {
        "colab": {
          "base_uri": "https://localhost:8080/"
        },
        "id": "sDv-yOAij1lr",
        "outputId": "eebe9698-76ae-4585-ee76-638deb7c8f93"
      },
      "execution_count": 117,
      "outputs": [
        {
          "output_type": "stream",
          "name": "stdout",
          "text": [
            "이번 시즌 우승 팀은 State Warriors입니다.\n"
          ]
        }
      ]
    },
    {
      "cell_type": "markdown",
      "source": [
        "### 홈팀 승패 예측 모델 만들기\n",
        "홈팀의 승패를 예측하기 위해서 VisitorPts에서 이기면 0으로, HomePts에서 이기면 1로 'winnerPts'라는 타겟을 만들어 주었습니다."
      ],
      "metadata": {
        "id": "aydyBA08kebG"
      }
    },
    {
      "cell_type": "code",
      "source": [
        "df.loc[df['VisitorPts']>df['HomePts'], \"winnerPts\"] = 0\n",
        "df.loc[df['VisitorPts']<df['HomePts'], \"winnerPts\"] = 1\n",
        "df.head()"
      ],
      "metadata": {
        "colab": {
          "base_uri": "https://localhost:8080/",
          "height": 206
        },
        "id": "LYcXRV28oxNQ",
        "outputId": "8ebf7bb1-5f80-48ce-bab2-2724891161a4"
      },
      "execution_count": 118,
      "outputs": [
        {
          "output_type": "execute_result",
          "data": {
            "text/plain": [
              "         Date          Visitor Team  VisitorPts              Home Team  \\\n",
              "0  2015-10-27   Cleveland Cavaliers          95          Chicago Bulls   \n",
              "1  2015-10-27       Detroit Pistons         106          Atlanta Hawks   \n",
              "2  2015-10-27  New Orleans Pelicans          95  Golden State Warriors   \n",
              "3  2015-10-28    Washington Wizards          88          Orlando Magic   \n",
              "4  2015-10-28    Philadelphia 76ers          95         Boston Celtics   \n",
              "\n",
              "   HomePts  Attend.                 winner  winnerPts  \n",
              "0       97    21957          Chicago Bulls        1.0  \n",
              "1       94    19187        Detroit Pistons        0.0  \n",
              "2      111    19596  Golden State Warriors        1.0  \n",
              "3       87    18846     Washington Wizards        0.0  \n",
              "4      112    18624         Boston Celtics        1.0  "
            ],
            "text/html": [
              "\n",
              "  <div id=\"df-50b47203-d4ac-4787-b87d-cd373c6080f9\">\n",
              "    <div class=\"colab-df-container\">\n",
              "      <div>\n",
              "<style scoped>\n",
              "    .dataframe tbody tr th:only-of-type {\n",
              "        vertical-align: middle;\n",
              "    }\n",
              "\n",
              "    .dataframe tbody tr th {\n",
              "        vertical-align: top;\n",
              "    }\n",
              "\n",
              "    .dataframe thead th {\n",
              "        text-align: right;\n",
              "    }\n",
              "</style>\n",
              "<table border=\"1\" class=\"dataframe\">\n",
              "  <thead>\n",
              "    <tr style=\"text-align: right;\">\n",
              "      <th></th>\n",
              "      <th>Date</th>\n",
              "      <th>Visitor Team</th>\n",
              "      <th>VisitorPts</th>\n",
              "      <th>Home Team</th>\n",
              "      <th>HomePts</th>\n",
              "      <th>Attend.</th>\n",
              "      <th>winner</th>\n",
              "      <th>winnerPts</th>\n",
              "    </tr>\n",
              "  </thead>\n",
              "  <tbody>\n",
              "    <tr>\n",
              "      <th>0</th>\n",
              "      <td>2015-10-27</td>\n",
              "      <td>Cleveland Cavaliers</td>\n",
              "      <td>95</td>\n",
              "      <td>Chicago Bulls</td>\n",
              "      <td>97</td>\n",
              "      <td>21957</td>\n",
              "      <td>Chicago Bulls</td>\n",
              "      <td>1.0</td>\n",
              "    </tr>\n",
              "    <tr>\n",
              "      <th>1</th>\n",
              "      <td>2015-10-27</td>\n",
              "      <td>Detroit Pistons</td>\n",
              "      <td>106</td>\n",
              "      <td>Atlanta Hawks</td>\n",
              "      <td>94</td>\n",
              "      <td>19187</td>\n",
              "      <td>Detroit Pistons</td>\n",
              "      <td>0.0</td>\n",
              "    </tr>\n",
              "    <tr>\n",
              "      <th>2</th>\n",
              "      <td>2015-10-27</td>\n",
              "      <td>New Orleans Pelicans</td>\n",
              "      <td>95</td>\n",
              "      <td>Golden State Warriors</td>\n",
              "      <td>111</td>\n",
              "      <td>19596</td>\n",
              "      <td>Golden State Warriors</td>\n",
              "      <td>1.0</td>\n",
              "    </tr>\n",
              "    <tr>\n",
              "      <th>3</th>\n",
              "      <td>2015-10-28</td>\n",
              "      <td>Washington Wizards</td>\n",
              "      <td>88</td>\n",
              "      <td>Orlando Magic</td>\n",
              "      <td>87</td>\n",
              "      <td>18846</td>\n",
              "      <td>Washington Wizards</td>\n",
              "      <td>0.0</td>\n",
              "    </tr>\n",
              "    <tr>\n",
              "      <th>4</th>\n",
              "      <td>2015-10-28</td>\n",
              "      <td>Philadelphia 76ers</td>\n",
              "      <td>95</td>\n",
              "      <td>Boston Celtics</td>\n",
              "      <td>112</td>\n",
              "      <td>18624</td>\n",
              "      <td>Boston Celtics</td>\n",
              "      <td>1.0</td>\n",
              "    </tr>\n",
              "  </tbody>\n",
              "</table>\n",
              "</div>\n",
              "      <button class=\"colab-df-convert\" onclick=\"convertToInteractive('df-50b47203-d4ac-4787-b87d-cd373c6080f9')\"\n",
              "              title=\"Convert this dataframe to an interactive table.\"\n",
              "              style=\"display:none;\">\n",
              "        \n",
              "  <svg xmlns=\"http://www.w3.org/2000/svg\" height=\"24px\"viewBox=\"0 0 24 24\"\n",
              "       width=\"24px\">\n",
              "    <path d=\"M0 0h24v24H0V0z\" fill=\"none\"/>\n",
              "    <path d=\"M18.56 5.44l.94 2.06.94-2.06 2.06-.94-2.06-.94-.94-2.06-.94 2.06-2.06.94zm-11 1L8.5 8.5l.94-2.06 2.06-.94-2.06-.94L8.5 2.5l-.94 2.06-2.06.94zm10 10l.94 2.06.94-2.06 2.06-.94-2.06-.94-.94-2.06-.94 2.06-2.06.94z\"/><path d=\"M17.41 7.96l-1.37-1.37c-.4-.4-.92-.59-1.43-.59-.52 0-1.04.2-1.43.59L10.3 9.45l-7.72 7.72c-.78.78-.78 2.05 0 2.83L4 21.41c.39.39.9.59 1.41.59.51 0 1.02-.2 1.41-.59l7.78-7.78 2.81-2.81c.8-.78.8-2.07 0-2.86zM5.41 20L4 18.59l7.72-7.72 1.47 1.35L5.41 20z\"/>\n",
              "  </svg>\n",
              "      </button>\n",
              "      \n",
              "  <style>\n",
              "    .colab-df-container {\n",
              "      display:flex;\n",
              "      flex-wrap:wrap;\n",
              "      gap: 12px;\n",
              "    }\n",
              "\n",
              "    .colab-df-convert {\n",
              "      background-color: #E8F0FE;\n",
              "      border: none;\n",
              "      border-radius: 50%;\n",
              "      cursor: pointer;\n",
              "      display: none;\n",
              "      fill: #1967D2;\n",
              "      height: 32px;\n",
              "      padding: 0 0 0 0;\n",
              "      width: 32px;\n",
              "    }\n",
              "\n",
              "    .colab-df-convert:hover {\n",
              "      background-color: #E2EBFA;\n",
              "      box-shadow: 0px 1px 2px rgba(60, 64, 67, 0.3), 0px 1px 3px 1px rgba(60, 64, 67, 0.15);\n",
              "      fill: #174EA6;\n",
              "    }\n",
              "\n",
              "    [theme=dark] .colab-df-convert {\n",
              "      background-color: #3B4455;\n",
              "      fill: #D2E3FC;\n",
              "    }\n",
              "\n",
              "    [theme=dark] .colab-df-convert:hover {\n",
              "      background-color: #434B5C;\n",
              "      box-shadow: 0px 1px 3px 1px rgba(0, 0, 0, 0.15);\n",
              "      filter: drop-shadow(0px 1px 2px rgba(0, 0, 0, 0.3));\n",
              "      fill: #FFFFFF;\n",
              "    }\n",
              "  </style>\n",
              "\n",
              "      <script>\n",
              "        const buttonEl =\n",
              "          document.querySelector('#df-50b47203-d4ac-4787-b87d-cd373c6080f9 button.colab-df-convert');\n",
              "        buttonEl.style.display =\n",
              "          google.colab.kernel.accessAllowed ? 'block' : 'none';\n",
              "\n",
              "        async function convertToInteractive(key) {\n",
              "          const element = document.querySelector('#df-50b47203-d4ac-4787-b87d-cd373c6080f9');\n",
              "          const dataTable =\n",
              "            await google.colab.kernel.invokeFunction('convertToInteractive',\n",
              "                                                     [key], {});\n",
              "          if (!dataTable) return;\n",
              "\n",
              "          const docLinkHtml = 'Like what you see? Visit the ' +\n",
              "            '<a target=\"_blank\" href=https://colab.research.google.com/notebooks/data_table.ipynb>data table notebook</a>'\n",
              "            + ' to learn more about interactive tables.';\n",
              "          element.innerHTML = '';\n",
              "          dataTable['output_type'] = 'display_data';\n",
              "          await google.colab.output.renderOutput(dataTable, element);\n",
              "          const docLink = document.createElement('div');\n",
              "          docLink.innerHTML = docLinkHtml;\n",
              "          element.appendChild(docLink);\n",
              "        }\n",
              "      </script>\n",
              "    </div>\n",
              "  </div>\n",
              "  "
            ]
          },
          "metadata": {},
          "execution_count": 118
        }
      ]
    },
    {
      "cell_type": "markdown",
      "source": [
        "관객수와 경기 날짜도 홈팀의 승패를 예측하는데에 도움이 될거 같다는 생각을 했습니다.\\\n",
        "그래서 경기 날짜를 OrdinalEncoder을 했고, 상관계수를 비교 해봤습니다.\\\n",
        "경기 날짜에 대한 상관계수는 매우 낮지만, 데이터가 너무 없기 때문에 날짜를 뺀 것보다는 포함 한 것이 f1score가 더 높아 포함하기로 결정했습니다."
      ],
      "metadata": {
        "id": "GtT-B-rtrJRs"
      }
    },
    {
      "cell_type": "code",
      "source": [
        "from sklearn.preprocessing import OrdinalEncoder\n",
        "enc = OrdinalEncoder()\n",
        "\n",
        "out_enc = enc.fit_transform(df[['Date']])\n",
        "Date_enc = pd.DataFrame(data =out_enc, columns=['Date'])\n",
        "\n",
        "Data = pd.concat([Date_enc, df[['Attend.']], df[['winnerPts']]], axis=1)\n",
        "\n",
        "cor = Data.corr()\n",
        "cor_target = abs(cor['winnerPts'])\n",
        "print(cor_target)\n",
        "\n",
        "X = pd.concat([df[['Attend.']],Date_enc], axis=1)\n",
        "y =df[['winnerPts']]  #target값"
      ],
      "metadata": {
        "colab": {
          "base_uri": "https://localhost:8080/"
        },
        "id": "N-OzNBqLpWMb",
        "outputId": "e3c0fb42-5509-4dd9-8d9d-e241853aa07f"
      },
      "execution_count": 119,
      "outputs": [
        {
          "output_type": "stream",
          "name": "stdout",
          "text": [
            "Date         0.028989\n",
            "Attend.      0.127206\n",
            "winnerPts    1.000000\n",
            "Name: winnerPts, dtype: float64\n"
          ]
        }
      ]
    },
    {
      "cell_type": "markdown",
      "source": [
        "Support Vector Machine, Logistic Regression, DecisionTreeClassifier 중 SVC가 f1 score 높아 이를 선택했습니다."
      ],
      "metadata": {
        "id": "mbT_2iNYlwVo"
      }
    },
    {
      "cell_type": "code",
      "source": [
        "from sklearn.svm import SVC\n",
        "from sklearn.model_selection import train_test_split\n",
        "from sklearn.metrics import f1_score\n",
        "\n",
        "X_train,X_test,y_train,y_test=\\\n",
        "train_test_split(X, y, test_size=.33, random_state=42)\n",
        "\n",
        "clf =  SVC(kernel = 'linear', C=1)\n",
        "clf.fit(X_train, y_train)\n",
        "\n",
        "y_pred = clf.predict(X_test)\n",
        "f1 = f1_score(y_test, y_pred)\n",
        "print(\"f1 score is = \"+str(f1))"
      ],
      "metadata": {
        "colab": {
          "base_uri": "https://localhost:8080/"
        },
        "id": "iRr3ivKKwNUq",
        "outputId": "f35fe69c-0e7c-4ddb-c891-05277b8a835c"
      },
      "execution_count": 120,
      "outputs": [
        {
          "output_type": "stream",
          "name": "stderr",
          "text": [
            "/usr/local/lib/python3.7/dist-packages/sklearn/utils/validation.py:993: DataConversionWarning: A column-vector y was passed when a 1d array was expected. Please change the shape of y to (n_samples, ), for example using ravel().\n",
            "  y = column_or_1d(y, warn=True)\n"
          ]
        },
        {
          "output_type": "stream",
          "name": "stdout",
          "text": [
            "f1 score is = 0.761764705882353\n"
          ]
        }
      ]
    },
    {
      "cell_type": "markdown",
      "source": [
        "#2번 문제\n",
        "#### adult 데이터 불러오기."
      ],
      "metadata": {
        "id": "R5B7KnBMfOGB"
      }
    },
    {
      "cell_type": "code",
      "execution_count": 121,
      "metadata": {
        "id": "7cjAG7zIlEMK",
        "colab": {
          "base_uri": "https://localhost:8080/",
          "height": 206
        },
        "outputId": "44ae9627-fb74-423d-c244-f92ad7ac7da6"
      },
      "outputs": [
        {
          "output_type": "execute_result",
          "data": {
            "text/plain": [
              "   age          workclass  fnlwgt   education  education-num  \\\n",
              "0   39          State-gov   77516   Bachelors             13   \n",
              "1   50   Self-emp-not-inc   83311   Bachelors             13   \n",
              "2   38            Private  215646     HS-grad              9   \n",
              "3   53            Private  234721        11th              7   \n",
              "4   28            Private  338409   Bachelors             13   \n",
              "\n",
              "        marital-status          occupation    relationship    race      sex  \\\n",
              "0        Never-married        Adm-clerical   Not-in-family   White     Male   \n",
              "1   Married-civ-spouse     Exec-managerial         Husband   White     Male   \n",
              "2             Divorced   Handlers-cleaners   Not-in-family   White     Male   \n",
              "3   Married-civ-spouse   Handlers-cleaners         Husband   Black     Male   \n",
              "4   Married-civ-spouse      Prof-specialty            Wife   Black   Female   \n",
              "\n",
              "   capital-gain  capital-loss  hours-per-week  native-country Earnings-Raw  \n",
              "0          2174             0              40   United-States        <=50K  \n",
              "1             0             0              13   United-States        <=50K  \n",
              "2             0             0              40   United-States        <=50K  \n",
              "3             0             0              40   United-States        <=50K  \n",
              "4             0             0              40            Cuba        <=50K  "
            ],
            "text/html": [
              "\n",
              "  <div id=\"df-bbb30b5e-9ba7-4de2-b78b-0eba3f7a3aea\">\n",
              "    <div class=\"colab-df-container\">\n",
              "      <div>\n",
              "<style scoped>\n",
              "    .dataframe tbody tr th:only-of-type {\n",
              "        vertical-align: middle;\n",
              "    }\n",
              "\n",
              "    .dataframe tbody tr th {\n",
              "        vertical-align: top;\n",
              "    }\n",
              "\n",
              "    .dataframe thead th {\n",
              "        text-align: right;\n",
              "    }\n",
              "</style>\n",
              "<table border=\"1\" class=\"dataframe\">\n",
              "  <thead>\n",
              "    <tr style=\"text-align: right;\">\n",
              "      <th></th>\n",
              "      <th>age</th>\n",
              "      <th>workclass</th>\n",
              "      <th>fnlwgt</th>\n",
              "      <th>education</th>\n",
              "      <th>education-num</th>\n",
              "      <th>marital-status</th>\n",
              "      <th>occupation</th>\n",
              "      <th>relationship</th>\n",
              "      <th>race</th>\n",
              "      <th>sex</th>\n",
              "      <th>capital-gain</th>\n",
              "      <th>capital-loss</th>\n",
              "      <th>hours-per-week</th>\n",
              "      <th>native-country</th>\n",
              "      <th>Earnings-Raw</th>\n",
              "    </tr>\n",
              "  </thead>\n",
              "  <tbody>\n",
              "    <tr>\n",
              "      <th>0</th>\n",
              "      <td>39</td>\n",
              "      <td>State-gov</td>\n",
              "      <td>77516</td>\n",
              "      <td>Bachelors</td>\n",
              "      <td>13</td>\n",
              "      <td>Never-married</td>\n",
              "      <td>Adm-clerical</td>\n",
              "      <td>Not-in-family</td>\n",
              "      <td>White</td>\n",
              "      <td>Male</td>\n",
              "      <td>2174</td>\n",
              "      <td>0</td>\n",
              "      <td>40</td>\n",
              "      <td>United-States</td>\n",
              "      <td>&lt;=50K</td>\n",
              "    </tr>\n",
              "    <tr>\n",
              "      <th>1</th>\n",
              "      <td>50</td>\n",
              "      <td>Self-emp-not-inc</td>\n",
              "      <td>83311</td>\n",
              "      <td>Bachelors</td>\n",
              "      <td>13</td>\n",
              "      <td>Married-civ-spouse</td>\n",
              "      <td>Exec-managerial</td>\n",
              "      <td>Husband</td>\n",
              "      <td>White</td>\n",
              "      <td>Male</td>\n",
              "      <td>0</td>\n",
              "      <td>0</td>\n",
              "      <td>13</td>\n",
              "      <td>United-States</td>\n",
              "      <td>&lt;=50K</td>\n",
              "    </tr>\n",
              "    <tr>\n",
              "      <th>2</th>\n",
              "      <td>38</td>\n",
              "      <td>Private</td>\n",
              "      <td>215646</td>\n",
              "      <td>HS-grad</td>\n",
              "      <td>9</td>\n",
              "      <td>Divorced</td>\n",
              "      <td>Handlers-cleaners</td>\n",
              "      <td>Not-in-family</td>\n",
              "      <td>White</td>\n",
              "      <td>Male</td>\n",
              "      <td>0</td>\n",
              "      <td>0</td>\n",
              "      <td>40</td>\n",
              "      <td>United-States</td>\n",
              "      <td>&lt;=50K</td>\n",
              "    </tr>\n",
              "    <tr>\n",
              "      <th>3</th>\n",
              "      <td>53</td>\n",
              "      <td>Private</td>\n",
              "      <td>234721</td>\n",
              "      <td>11th</td>\n",
              "      <td>7</td>\n",
              "      <td>Married-civ-spouse</td>\n",
              "      <td>Handlers-cleaners</td>\n",
              "      <td>Husband</td>\n",
              "      <td>Black</td>\n",
              "      <td>Male</td>\n",
              "      <td>0</td>\n",
              "      <td>0</td>\n",
              "      <td>40</td>\n",
              "      <td>United-States</td>\n",
              "      <td>&lt;=50K</td>\n",
              "    </tr>\n",
              "    <tr>\n",
              "      <th>4</th>\n",
              "      <td>28</td>\n",
              "      <td>Private</td>\n",
              "      <td>338409</td>\n",
              "      <td>Bachelors</td>\n",
              "      <td>13</td>\n",
              "      <td>Married-civ-spouse</td>\n",
              "      <td>Prof-specialty</td>\n",
              "      <td>Wife</td>\n",
              "      <td>Black</td>\n",
              "      <td>Female</td>\n",
              "      <td>0</td>\n",
              "      <td>0</td>\n",
              "      <td>40</td>\n",
              "      <td>Cuba</td>\n",
              "      <td>&lt;=50K</td>\n",
              "    </tr>\n",
              "  </tbody>\n",
              "</table>\n",
              "</div>\n",
              "      <button class=\"colab-df-convert\" onclick=\"convertToInteractive('df-bbb30b5e-9ba7-4de2-b78b-0eba3f7a3aea')\"\n",
              "              title=\"Convert this dataframe to an interactive table.\"\n",
              "              style=\"display:none;\">\n",
              "        \n",
              "  <svg xmlns=\"http://www.w3.org/2000/svg\" height=\"24px\"viewBox=\"0 0 24 24\"\n",
              "       width=\"24px\">\n",
              "    <path d=\"M0 0h24v24H0V0z\" fill=\"none\"/>\n",
              "    <path d=\"M18.56 5.44l.94 2.06.94-2.06 2.06-.94-2.06-.94-.94-2.06-.94 2.06-2.06.94zm-11 1L8.5 8.5l.94-2.06 2.06-.94-2.06-.94L8.5 2.5l-.94 2.06-2.06.94zm10 10l.94 2.06.94-2.06 2.06-.94-2.06-.94-.94-2.06-.94 2.06-2.06.94z\"/><path d=\"M17.41 7.96l-1.37-1.37c-.4-.4-.92-.59-1.43-.59-.52 0-1.04.2-1.43.59L10.3 9.45l-7.72 7.72c-.78.78-.78 2.05 0 2.83L4 21.41c.39.39.9.59 1.41.59.51 0 1.02-.2 1.41-.59l7.78-7.78 2.81-2.81c.8-.78.8-2.07 0-2.86zM5.41 20L4 18.59l7.72-7.72 1.47 1.35L5.41 20z\"/>\n",
              "  </svg>\n",
              "      </button>\n",
              "      \n",
              "  <style>\n",
              "    .colab-df-container {\n",
              "      display:flex;\n",
              "      flex-wrap:wrap;\n",
              "      gap: 12px;\n",
              "    }\n",
              "\n",
              "    .colab-df-convert {\n",
              "      background-color: #E8F0FE;\n",
              "      border: none;\n",
              "      border-radius: 50%;\n",
              "      cursor: pointer;\n",
              "      display: none;\n",
              "      fill: #1967D2;\n",
              "      height: 32px;\n",
              "      padding: 0 0 0 0;\n",
              "      width: 32px;\n",
              "    }\n",
              "\n",
              "    .colab-df-convert:hover {\n",
              "      background-color: #E2EBFA;\n",
              "      box-shadow: 0px 1px 2px rgba(60, 64, 67, 0.3), 0px 1px 3px 1px rgba(60, 64, 67, 0.15);\n",
              "      fill: #174EA6;\n",
              "    }\n",
              "\n",
              "    [theme=dark] .colab-df-convert {\n",
              "      background-color: #3B4455;\n",
              "      fill: #D2E3FC;\n",
              "    }\n",
              "\n",
              "    [theme=dark] .colab-df-convert:hover {\n",
              "      background-color: #434B5C;\n",
              "      box-shadow: 0px 1px 3px 1px rgba(0, 0, 0, 0.15);\n",
              "      filter: drop-shadow(0px 1px 2px rgba(0, 0, 0, 0.3));\n",
              "      fill: #FFFFFF;\n",
              "    }\n",
              "  </style>\n",
              "\n",
              "      <script>\n",
              "        const buttonEl =\n",
              "          document.querySelector('#df-bbb30b5e-9ba7-4de2-b78b-0eba3f7a3aea button.colab-df-convert');\n",
              "        buttonEl.style.display =\n",
              "          google.colab.kernel.accessAllowed ? 'block' : 'none';\n",
              "\n",
              "        async function convertToInteractive(key) {\n",
              "          const element = document.querySelector('#df-bbb30b5e-9ba7-4de2-b78b-0eba3f7a3aea');\n",
              "          const dataTable =\n",
              "            await google.colab.kernel.invokeFunction('convertToInteractive',\n",
              "                                                     [key], {});\n",
              "          if (!dataTable) return;\n",
              "\n",
              "          const docLinkHtml = 'Like what you see? Visit the ' +\n",
              "            '<a target=\"_blank\" href=https://colab.research.google.com/notebooks/data_table.ipynb>data table notebook</a>'\n",
              "            + ' to learn more about interactive tables.';\n",
              "          element.innerHTML = '';\n",
              "          dataTable['output_type'] = 'display_data';\n",
              "          await google.colab.output.renderOutput(dataTable, element);\n",
              "          const docLink = document.createElement('div');\n",
              "          docLink.innerHTML = docLinkHtml;\n",
              "          element.appendChild(docLink);\n",
              "        }\n",
              "      </script>\n",
              "    </div>\n",
              "  </div>\n",
              "  "
            ]
          },
          "metadata": {},
          "execution_count": 121
        }
      ],
      "source": [
        "import pandas as pd\n",
        "adult = pd.read_csv('/content/drive/MyDrive/Dataminning/data/adult.data', header=None)\n",
        "adult.columns =['age','workclass','fnlwgt','education','education-num','marital-status','occupation','relationship','race','sex','capital-gain','capital-loss','hours-per-week','native-country','Earnings-Raw']\n",
        "adult.head()"
      ]
    },
    {
      "cell_type": "markdown",
      "source": [
        "#### Encoding\n",
        "범주형인 'workclass', 'education', 'education-num', 'marital-status', 'occupation', 'relationship','race','sex','native-country','Earnings-Raw' \n",
        "이를 모두 OnHotencoding을 하면 데이터 양이 너무 많아져 더 안 좋은 모델이 나왔습니다\\\n",
        "그래서 범주 갯수가 10개보다 작은 것들은 Onhotencoding을, 10개보다 큰 것은 OrdinalEncoding, target값인 Earning-Raw는 LabelEncoder을 선택했습니다."
      ],
      "metadata": {
        "id": "rFiSBiGkfW1Z"
      }
    },
    {
      "cell_type": "code",
      "source": [
        "X1 = adult[['workclass','marital-status','relationship','race','sex']]  # OnHotencoding 할 부분 \n",
        "X2 = adult[['education','occupation','native-country']]                 # OrdinalEncoding 할 부분\n",
        "X3 = adult[['age','fnlwgt','education-num','capital-gain','capital-loss','hours-per-week']] # 연속형 변수\n",
        "y = adult ['Earnings-Raw']  # LabelEncoding 할 부분\n",
        "\n",
        "#OneHotEncoder\n",
        "\n",
        "from sklearn.preprocessing import OneHotEncoder\n",
        "enc = OneHotEncoder(sparse = False)\n",
        "\n",
        "out_enc = enc.fit_transform(X1)\n",
        "new_cols = enc.get_feature_names_out(X1.columns).tolist()\n",
        "\n",
        "X1_enc = pd.DataFrame(data =out_enc, columns= new_cols)\n"
      ],
      "metadata": {
        "id": "ogWo5jzgVH3Z"
      },
      "execution_count": 122,
      "outputs": []
    },
    {
      "cell_type": "code",
      "source": [
        "# OrdinalEncoder\n",
        "\n",
        "from sklearn.preprocessing import OrdinalEncoder\n",
        "enc = OrdinalEncoder()\n",
        "\n",
        "out_enc = enc.fit_transform(X2)\n",
        "X2_enc = pd.DataFrame(data =out_enc, columns=['education','occupation','native-country'])"
      ],
      "metadata": {
        "id": "UIPWs_InIcJa"
      },
      "execution_count": 123,
      "outputs": []
    },
    {
      "cell_type": "code",
      "source": [
        "# LabelEncoder\n",
        "\n",
        "from sklearn.preprocessing import LabelEncoder\n",
        "\n",
        "enc = LabelEncoder()\n",
        "out_enc = enc.fit_transform(y)\n",
        "y_enc = pd.DataFrame(data = out_enc, columns = ['Earnings-Raw'])\n",
        "\n",
        "# 인코딩한 데이터와 연속형 변수 하나의 데이터 프레임으로 만들기.\n",
        "Data = pd.concat([X1_enc,X2_enc,X3,y_enc], axis=1)"
      ],
      "metadata": {
        "id": "31Dva71a6m_R"
      },
      "execution_count": 124,
      "outputs": []
    },
    {
      "cell_type": "markdown",
      "source": [
        "#### 상관계수 기반 특징 선택"
      ],
      "metadata": {
        "id": "rcq0bxNOrmFg"
      }
    },
    {
      "cell_type": "code",
      "source": [
        "cor = Data.corr()\n",
        "import seaborn as sns\n",
        "import matplotlib.pyplot as plt\n",
        "\n",
        "sns.heatmap(cor, annot=False, cmap=plt.cm.Blues)\n",
        "plt.show()"
      ],
      "metadata": {
        "colab": {
          "base_uri": "https://localhost:8080/",
          "height": 452
        },
        "id": "EGlnHYn_80i3",
        "outputId": "821ae5ba-1a43-42ba-8cb3-5445c44bd92a"
      },
      "execution_count": 125,
      "outputs": [
        {
          "output_type": "display_data",
          "data": {
            "text/plain": [
              "<Figure size 432x288 with 2 Axes>"
            ],
            "image/png": "[encoded data removed]"
          },
          "metadata": {
            "needs_background": "light"
          }
        }
      ]
    },
    {
      "cell_type": "code",
      "source": [
        "# target과의 상관관계 보기\n",
        "\n",
        "cor_target = abs(cor['Earnings-Raw'])\n",
        "print(cor_target)"
      ],
      "metadata": {
        "colab": {
          "base_uri": "https://localhost:8080/"
        },
        "id": "P5LDrq1nERay",
        "outputId": "a72f0a55-fa8c-4c7a-df2c-39ad8d8bee03"
      },
      "execution_count": 126,
      "outputs": [
        {
          "output_type": "stream",
          "name": "stdout",
          "text": [
            "workclass_ ?                             0.078198\n",
            "workclass_ Federal-gov                   0.059372\n",
            "workclass_ Local-gov                     0.033091\n",
            "workclass_ Never-worked                  0.008259\n",
            "workclass_ Private                       0.078528\n",
            "workclass_ Self-emp-inc                  0.139467\n",
            "workclass_ Self-emp-not-inc              0.030019\n",
            "workclass_ State-gov                     0.014843\n",
            "workclass_ Without-pay                   0.011681\n",
            "marital-status_ Divorced                 0.126995\n",
            "marital-status_ Married-AF-spouse        0.012061\n",
            "marital-status_ Married-civ-spouse       0.444696\n",
            "marital-status_ Married-spouse-absent    0.042532\n",
            "marital-status_ Never-married            0.318440\n",
            "marital-status_ Separated                0.074386\n",
            "marital-status_ Widowed                  0.064381\n",
            "relationship_ Husband                    0.401035\n",
            "relationship_ Not-in-family              0.188497\n",
            "relationship_ Other-relative             0.083716\n",
            "relationship_ Own-child                  0.228532\n",
            "relationship_ Unmarried                  0.142857\n",
            "relationship_ Wife                       0.123264\n",
            "race_ Amer-Indian-Eskimo                 0.028721\n",
            "race_ Asian-Pac-Islander                 0.010543\n",
            "race_ Black                              0.089089\n",
            "race_ Other                              0.031830\n",
            "race_ White                              0.085224\n",
            "sex_ Female                              0.215980\n",
            "sex_ Male                                0.215980\n",
            "education                                0.079317\n",
            "occupation                               0.075468\n",
            "native-country                           0.015840\n",
            "age                                      0.234037\n",
            "fnlwgt                                   0.009463\n",
            "education-num                            0.335154\n",
            "capital-gain                             0.223329\n",
            "capital-loss                             0.150526\n",
            "hours-per-week                           0.229689\n",
            "Earnings-Raw                             1.000000\n",
            "Name: Earnings-Raw, dtype: float64\n"
          ]
        }
      ]
    },
    {
      "cell_type": "markdown",
      "source": [
        "target과의 상관관계가 매우 낮아 0.2를 기준으로 잡았습니다."
      ],
      "metadata": {
        "id": "_4AvwySbr6Fm"
      }
    },
    {
      "cell_type": "code",
      "source": [
        "selected_cols = cor_target[cor_target > 0.2]\n",
        "print(\"selected column, correlation\")\n",
        "print(selected_cols)\n",
        "\n",
        "df_sel = Data[selected_cols.index] # 상관계수가 0.2보다 높은 부분 데이터 프레임 생성\n",
        "print(df_sel.head())"
      ],
      "metadata": {
        "colab": {
          "base_uri": "https://localhost:8080/"
        },
        "id": "4iD_dt7WEZIl",
        "outputId": "00e17934-2b82-471c-f7eb-7d4a751a4011"
      },
      "execution_count": 127,
      "outputs": [
        {
          "output_type": "stream",
          "name": "stdout",
          "text": [
            "selected column, correlation\n",
            "marital-status_ Married-civ-spouse    0.444696\n",
            "marital-status_ Never-married         0.318440\n",
            "relationship_ Husband                 0.401035\n",
            "relationship_ Own-child               0.228532\n",
            "sex_ Female                           0.215980\n",
            "sex_ Male                             0.215980\n",
            "age                                   0.234037\n",
            "education-num                         0.335154\n",
            "capital-gain                          0.223329\n",
            "hours-per-week                        0.229689\n",
            "Earnings-Raw                          1.000000\n",
            "Name: Earnings-Raw, dtype: float64\n",
            "   marital-status_ Married-civ-spouse  marital-status_ Never-married  \\\n",
            "0                                 0.0                            1.0   \n",
            "1                                 1.0                            0.0   \n",
            "2                                 0.0                            0.0   \n",
            "3                                 1.0                            0.0   \n",
            "4                                 1.0                            0.0   \n",
            "\n",
            "   relationship_ Husband  relationship_ Own-child  sex_ Female  sex_ Male  \\\n",
            "0                    0.0                      0.0          0.0        1.0   \n",
            "1                    1.0                      0.0          0.0        1.0   \n",
            "2                    0.0                      0.0          0.0        1.0   \n",
            "3                    1.0                      0.0          0.0        1.0   \n",
            "4                    0.0                      0.0          1.0        0.0   \n",
            "\n",
            "   age  education-num  capital-gain  hours-per-week  Earnings-Raw  \n",
            "0   39             13          2174              40             0  \n",
            "1   50             13             0              13             0  \n",
            "2   38              9             0              40             0  \n",
            "3   53              7             0              40             0  \n",
            "4   28             13             0              40             0  \n"
          ]
        }
      ]
    },
    {
      "cell_type": "markdown",
      "source": [
        "#### GridSearch"
      ],
      "metadata": {
        "id": "cMepAnZAt2dz"
      }
    },
    {
      "cell_type": "markdown",
      "source": [
        "DecisionTreeClassifier을 GridSeach했을 때 가장 높은 f1 scroe가 나와 이 방법을 택했습니다."
      ],
      "metadata": {
        "id": "YHPSVp9ktgG6"
      }
    },
    {
      "cell_type": "code",
      "source": [
        "from sklearn.model_selection import train_test_split\n",
        "\n",
        "X=df_sel.iloc[:,:-1]\n",
        "y=df_sel['Earnings-Raw']\n",
        "X.head()\n",
        "\n",
        "X_train,X_test,y_train,y_test=\\\n",
        "train_test_split(X,y, test_size=.33, random_state=42)\n",
        "\n",
        "from sklearn.model_selection import GridSearchCV\n",
        "from sklearn.tree import DecisionTreeClassifier\n",
        "from sklearn.metrics import f1_score\n",
        "\n",
        "param = {\n",
        "    \"min_samples_leaf\":[1,2,3,4,5,6,7,8,9],\n",
        "    \"max_depth\":[2,3,4,5,6,None],\n",
        "    \"min_samples_split\":[2,3,4,5,6,7,8,9,10]\n",
        "}\n",
        "df = DecisionTreeClassifier()\n",
        "clf = GridSearchCV(df, param_grid=param, cv=5, refit=True)\n",
        "\n",
        "clf.fit(X_train,y_train)\n",
        "\n",
        "print('Best score is = ', str(clf.best_score_))\n",
        "print('Best parameters are = ',str(clf.best_params_))"
      ],
      "metadata": {
        "colab": {
          "base_uri": "https://localhost:8080/"
        },
        "id": "b4ci5V9jMxZk",
        "outputId": "c0dfc34b-f7ba-4362-ec91-61c064de6df9"
      },
      "execution_count": 128,
      "outputs": [
        {
          "output_type": "stream",
          "name": "stdout",
          "text": [
            "Best score is =  0.8465734586293834\n",
            "Best parameters are =  {'max_depth': 6, 'min_samples_leaf': 1, 'min_samples_split': 5}\n"
          ]
        }
      ]
    },
    {
      "cell_type": "code",
      "source": [
        "from sklearn import metrics\n",
        "\n",
        "y_pred = clf.predict(X_test)\n",
        "f1 = metrics.f1_score(y_test, y_pred, average='macro')\n",
        "print(\"f1 score is = \"+str(f1))"
      ],
      "metadata": {
        "colab": {
          "base_uri": "https://localhost:8080/"
        },
        "id": "uQM9iN0pRMQH",
        "outputId": "5f540785-592a-409e-cfa7-93e8c539298c"
      },
      "execution_count": 130,
      "outputs": [
        {
          "output_type": "stream",
          "name": "stdout",
          "text": [
            "f1 score is = 0.7577376674979921\n"
          ]
        }
      ]
    }
  ]
}